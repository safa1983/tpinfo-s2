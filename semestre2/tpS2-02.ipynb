{
 "cells": [
  {
   "cell_type": "markdown",
   "metadata": {},
   "source": [
    "<center><b>TP S2 N°01 Instruction conditionnelle</b></center>\n",
    "\n",
    "<center>Syntaxe de l’instruction conditionnelle if()<center>"
   ]
  },
  {
   "cell_type": "markdown",
   "metadata": {},
   "source": [
    "Forme simple        | Forme alternative | Forme imbriquée\n",
    ":-------------------|:----------------- |:--------------------\n",
    "if(condition)<br>{<br>    &ensp;Bloc d’Instructions;<br>}                   | if(condition)<br>{<br>  &ensp;Bloc d’Instructions 1;<br>}<br>else<br>{<br>  &ensp;Bloc d’Instructions 2;<br>}     | if(condition1)<br>{<br>  &ensp;Bloc d’Instructions 1;<br>}<br>else<br>{<br>if(condition2)<br>{ <br>&ensp;Bloc d’Instructions 2;<br>}<br>else<br>{<br>&ensp;Bloc d’Instructions 3;<br>}} "
   ]
  },
  {
   "cell_type": "markdown",
   "metadata": {},
   "source": [
    "<b>exercice N°1</b><br>\n",
    "Lit un nombre entier N et vérifier s’il est pair ou impair.<br> في الأعلى <b>Run</b>\n",
    " أكتب البرنامج في الخانة الموالية و عندماتنتهي إضغط على "
   ]
  },
  {
   "cell_type": "code",
   "execution_count": null,
   "metadata": {},
   "outputs": [],
   "source": [
    "#include<stdio.h>\n",
    "int N;\n",
    "int main()\n",
    "{\n",
    "    printf(\"donnez un nombre entier N \\n\");\n",
    "    \n",
    "    ..... أكمل هنا\n",
    "    \n",
    "    \n",
    "    return 0;\n",
    "}"
   ]
  },
  {
   "cell_type": "markdown",
   "metadata": {},
   "source": [
    "<b>exercice N°2</b><br>\n",
    "Trouve et affiche le maximum et le minimum entre trois nombres entiers A, B et C."
   ]
  },
  {
   "cell_type": "code",
   "execution_count": null,
   "metadata": {},
   "outputs": [],
   "source": [
    "#include<stdio.h>\n",
    "\n",
    "int main()\n",
    "{\n",
    "\n",
    "    \n",
    "    \n",
    "    return 0;\n",
    "}"
   ]
  },
  {
   "cell_type": "markdown",
   "metadata": {},
   "source": [
    "<b>exercice N°3</b><br>\n",
    "Un magasin de reprographie facture 5DA les dix premières photocopies, 4DA les vingt suivantes et 3DA au-delà. Ecrivez un programme en langage C qui demande à l’utilisateur le nombre de photocopies effectuées et qui affiche la facture correspondante."
   ]
  },
  {
   "cell_type": "code",
   "execution_count": null,
   "metadata": {},
   "outputs": [],
   "source": []
  }
 ],
 "metadata": {
  "kernelspec": {
   "display_name": "C",
   "language": "c",
   "name": "c"
  },
  "language_info": {
   "file_extension": ".c",
   "mimetype": "text/plain",
   "name": "text/x-csrc"
  }
 },
 "nbformat": 4,
 "nbformat_minor": 4
}
